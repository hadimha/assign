{
 "cells": [
  {
   "cell_type": "markdown",
   "id": "a80ddbe7-0548-449f-b27e-7474f6cbd314",
   "metadata": {},
   "source": [
    "# My Jupyter Notebook on IBM Watson Studio\n"
   ]
  },
  {
   "cell_type": "markdown",
   "id": "20f7df81-d026-46e1-a224-74905a102233",
   "metadata": {},
   "source": [
    "## **HAIDER MUSHTAQ**\n",
    "Currently i'm doding job as a Manager Finance & Taxation, I wanted to be a Financial Data Scientist"
   ]
  },
  {
   "cell_type": "markdown",
   "id": "6cdefd4a-1ff8-40cb-b4b6-3a31ac9c1fd9",
   "metadata": {},
   "source": [
    "##### _Data science is a emerging field and it has a boom in industry for many decades. Today data is the new backbone of every business. In order to become a future leading professional i am learning a data science skills._"
   ]
  },
  {
   "cell_type": "markdown",
   "id": "873b0ad1-7402-4a7d-9eaa-4fba1b58842e",
   "metadata": {},
   "source": [
    "### My code will be supposed to welcome me as a curious data scientist."
   ]
  },
  {
   "cell_type": "code",
   "execution_count": 2,
   "id": "6fdf5a99-6e55-43e1-9ad4-aeb08fd68bbf",
   "metadata": {},
   "outputs": [
    {
     "name": "stdout",
     "output_type": "stream",
     "text": [
      "Welcome, Haider Mushtaq - Future Data Scientist\n"
     ]
    }
   ],
   "source": [
    "print(\"Welcome, Haider Mushtaq - Future Data Scientist\")"
   ]
  },
  {
   "cell_type": "markdown",
   "id": "ea5f2745-ebe8-4de2-809b-1cce506cbff1",
   "metadata": {},
   "source": [
    "___\n",
    "1\n",
    "2\n",
    "3\n",
    "***\n",
    "| QTY          | Product       | Price |\n",
    "| -------------|:-------------:| -----:|\n",
    "| 10           | Apple         |   $16 |\n",
    "| 12           | Oranges       |   $20 |\n",
    "| 5            | Banana        |   $10 |"
   ]
  },
  {
   "cell_type": "code",
   "execution_count": null,
   "id": "5d787971-23fd-429c-af12-a2b59eda036c",
   "metadata": {},
   "outputs": [],
   "source": []
  }
 ],
 "metadata": {
  "kernelspec": {
   "display_name": "Python",
   "language": "python",
   "name": "conda-env-python-py"
  },
  "language_info": {
   "codemirror_mode": {
    "name": "ipython",
    "version": 3
   },
   "file_extension": ".py",
   "mimetype": "text/x-python",
   "name": "python",
   "nbconvert_exporter": "python",
   "pygments_lexer": "ipython3",
   "version": "3.7.12"
  }
 },
 "nbformat": 4,
 "nbformat_minor": 5
}
